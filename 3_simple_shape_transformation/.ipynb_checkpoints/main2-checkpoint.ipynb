{
 "cells": [
  {
   "cell_type": "code",
   "execution_count": 16,
   "id": "bf8a9e47-4640-4571-af5a-21b30de4c2bf",
   "metadata": {},
   "outputs": [
    {
     "name": "stdout",
     "output_type": "stream",
     "text": [
      "Populating the interactive namespace from numpy and matplotlib\n",
      "pytorch  : 1.9.0\n",
      "open3d   : 0.13.0\n",
      "pytorch3d: 0.3.0\n"
     ]
    }
   ],
   "source": [
    "import copy\n",
    "import torch\n",
    "import torch.nn as nn\n",
    "import torch.optim as optim\n",
    "import numpy as np \n",
    "import open3d as o3d\n",
    "\n",
    "# if torch.__version__.startswith(\"1.9\") and sys.platform.startswith(\"linux\"):\n",
    "#     # We try to install PyTorch3D via a released wheel.\n",
    "#     version_str=\"\".join([\n",
    "#         f\"py3{sys.version_info.minor}_cu\",\n",
    "#         torch.version.cuda.replace(\".\",\"\"),\n",
    "#         f\"_pyt{torch.__version__[0:5:2]}\"\n",
    "#     ])\n",
    "#     !pip install pytorch3d -f https://dl.fbaipublicfiles.com/pytorch3d/packaging/wheels/{version_str}/download.html\n",
    "    \n",
    "import pytorch3d as p3d\n",
    "\n",
    "%matplotlib inline\n",
    "%pylab inline\n",
    "\n",
    "print('pytorch  :', torch.__version__)\n",
    "print('open3d   :', o3d.__version__)\n",
    "print('pytorch3d:', p3d.__version__)"
   ]
  },
  {
   "cell_type": "code",
   "execution_count": null,
   "id": "b9cf8bfc-0168-40bd-b067-94e7261ccadc",
   "metadata": {},
   "outputs": [],
   "source": []
  },
  {
   "cell_type": "code",
   "execution_count": 12,
   "id": "ee7c7333-8b4c-4375-b7b1-c424677fea83",
   "metadata": {},
   "outputs": [
    {
     "name": "stdout",
     "output_type": "stream",
     "text": [
      "<class 'open3d.cuda.pybind.geometry.PointCloud'>\n",
      "[[-0.036872    0.127727    0.00440925]\n",
      " [-0.0453607   0.128854    0.00114541]\n",
      " [-0.0690069   0.151612    0.0366018 ]\n",
      " ...\n",
      " [-0.0643695   0.149877   -0.0298747 ]\n",
      " [-0.0528961   0.143026   -0.00045591]\n",
      " [-0.0318636   0.155275   -0.00893878]]\n",
      "[-0.02669133  0.0944444   0.00861972]\n"
     ]
    }
   ],
   "source": [
    "# load the shape (ref: http://graphics.stanford.edu/data/3Dscanrep/) \n",
    "bunny_orig = o3d.io.read_point_cloud('bun_zipper_res2.ply')\n",
    "\n",
    "print(type(bunny_orig))\n",
    "print( np.asarray(bunny_orig.points) )\n",
    "print( np.mean(np.asarray(bunny_orig.points), axis=0) )\n",
    "o3d.visualization.draw_geometries([bunny_orig])"
   ]
  },
  {
   "cell_type": "code",
   "execution_count": null,
   "id": "b8fddde8-5a3a-4786-a609-8e2ebc2287f2",
   "metadata": {},
   "outputs": [],
   "source": [
    "# from pytorch3d.transforms.so3 import (\n",
    "#     so3_exp_map,\n",
    "#     so3_relative_angle,\n",
    "# )\n"
   ]
  },
  {
   "cell_type": "code",
   "execution_count": 34,
   "id": "4d33d6e3-dba3-4588-ae86-907233f4a165",
   "metadata": {},
   "outputs": [
    {
     "name": "stdout",
     "output_type": "stream",
     "text": [
      "tensor([[[ 0.4305, -0.7880,  0.4402],\n",
      "         [-0.7445, -0.0342,  0.6668],\n",
      "         [-0.5103, -0.6147, -0.6014]]])\n",
      "[[ 0.43046635 -0.78799629  0.44018239  0.        ]\n",
      " [-0.74448001 -0.03423214  0.66676658  0.        ]\n",
      " [-0.51034123 -0.61472756 -0.60138333  0.        ]\n",
      " [ 0.          0.          0.          1.        ]]\n"
     ]
    }
   ],
   "source": [
    "rot = p3d.transforms.random_rotation()\n",
    "rot = torch.unsqueeze(rot, dim=0)\n",
    "print(rot)\n",
    "\n",
    "# for study \n",
    "# rotvec = p3d.transforms.so3_log_map(rot, eps=0.001)\n",
    "# print(rotvec.shape)\n",
    "\n",
    "# rot_recovered = p3d.transforms.so3_exponential_map(rotvec)\n",
    "# print(rot_recovered.shape)\n",
    "# print(rot_recovered)\n",
    "\n",
    "# move\n",
    "rot_true = rot.squeeze().numpy()\n",
    "tf_true = np.eye(4,4)\n",
    "tf_true[:3, :3] = rot_true\n",
    "print(tf_true)\n",
    "\n",
    "bunny = o3d.io.read_point_cloud('bun_zipper_res2.ply')\n",
    "bunny.transform(tf_true) # in-place transformation \n",
    "o3d.visualization.draw_geometries([bunny_orig, bunny])"
   ]
  },
  {
   "cell_type": "code",
   "execution_count": 77,
   "id": "e3852a5d-f9aa-4920-b990-b6dc097648ab",
   "metadata": {},
   "outputs": [],
   "source": [
    "pts_orig = torch.Tensor(np.asarray(bunny_orig.points))\n"
   ]
  },
  {
   "cell_type": "code",
   "execution_count": 39,
   "id": "978a86d9-4eb6-472f-ba7f-cdfd12149aa5",
   "metadata": {},
   "outputs": [
    {
     "name": "stdout",
     "output_type": "stream",
     "text": [
      "bunny pts: tensor([[-0.1146,  0.0260, -0.0624],\n",
      "        [-0.1206,  0.0301, -0.0567],\n",
      "        [-0.1331,  0.0706, -0.0800],\n",
      "        ...,\n",
      "        [-0.1590,  0.0229, -0.0413],\n",
      "        [-0.1357,  0.0342, -0.0607],\n",
      "        [-0.1400,  0.0124, -0.0738]])\n",
      "torch.Size([8171, 3])\n",
      "tensor([[468.8965, 448.3091, 462.5004],\n",
      "        [456.5396, 438.6372, 451.4586],\n",
      "        [126.0721, 120.5285, 124.1406]], grad_fn=<MmBackward>)\n",
      "tensor([[342.8508],\n",
      "        [248.6127],\n",
      "        [198.3927]], grad_fn=<MmBackward>)\n"
     ]
    }
   ],
   "source": [
    "class RealiveTransform(nn.Module):\n",
    "    def __init__(self):\n",
    "        super(RealiveTransform, self).__init__()\n",
    "        self.rot_part1 = nn.Parameter(torch.rand(3, 3)) \n",
    "        self.rot_part2 = nn.Parameter(torch.rand(3, 1024)) \n",
    "        self.rot_part3 = nn.Parameter(torch.rand(1024, 3)) \n",
    "        \n",
    "        self.trans_part1 = nn.Parameter(torch.rand(3, 3))\n",
    "        self.trans_part2 = nn.Parameter(torch.rand(3, 1024))\n",
    "        self.trans_part3 = nn.Parameter(torch.rand(1024, 1))\n",
    "         \n",
    "    def forward(self, x):\n",
    "        # x: n x 3 \n",
    "        y = (torch.mm(torch.mm(torch.mm(self.rot_part1, self.rot_part2), self.rot_part3), x.t()) \\\n",
    "            + torch.mm(torch.mm(self.trans_part1, self.trans_part2), self.trans_part3)).t()\n",
    "        return y\n",
    "    \n",
    "    def get_tf(self):\n",
    "        return {'R': torch.mm(torch.mm(self.rot_part1, self.rot_part2), self.rot_part3),\n",
    "                't': torch.mm(torch.mm(self.trans_part1, self.trans_part2), self.trans_part3)}\n",
    "        \n",
    "pts = torch.Tensor(np.asarray(bunny.points))\n",
    "print('bunny pts:', pts)\n",
    "realive_transform = RealiveTransform()\n",
    "y = realive_transform(pts)\n",
    "print(y.shape)\n",
    "\n",
    "est_tf = realive_transform.get_tf()\n",
    "print(est_tf['R'])\n",
    "print(est_tf['t'])\n",
    "\n",
    "bunny_tf_est = o3d.geometry.PointCloud()\n",
    "bunny_tf_est.points = o3d.utility.Vector3dVector(y.detach().numpy())\n",
    "o3d.visualization.draw_geometries([bunny_orig, bunny_tf_est])\n"
   ]
  },
  {
   "cell_type": "code",
   "execution_count": null,
   "id": "04bc27e2-b7e0-43ae-9fee-ee228b0f1994",
   "metadata": {
    "tags": []
   },
   "outputs": [],
   "source": [
    "# optimizer \n",
    "optimizer = optim.Adam(realive_transform.parameters(), lr=0.001)\n",
    "\n",
    "realive_transform = realive_transform.cpu()\n",
    "pts_orig = pts_orig.cpu()\n",
    "\n",
    "# run optimization \n",
    "for i in range(50000):\n",
    "    optimizer.zero_grad()\n",
    "    pts_est = realive_transform(pts)\n",
    "    loss = torch.abs(pts_est - pts_orig).sum(dim=1).sum()\n",
    "#     loss = torch.square(torch.abs(pts_est - pts_orig).sum(dim=1)).sum()\n",
    "    loss.backward()\n",
    "    optimizer.step()\n",
    "\n",
    "    if i % 10000 == 0:\n",
    "        loss, current = loss.item(), i * len(pts)\n",
    "        print(f\"loss: {loss:>10f}\")"
   ]
  },
  {
   "cell_type": "code",
   "execution_count": 88,
   "id": "0e76a853-345b-4643-8d96-cfd2860d0fce",
   "metadata": {},
   "outputs": [
    {
     "name": "stdout",
     "output_type": "stream",
     "text": [
      "true R: tensor([[ 0.4305, -0.7880,  0.4402],\n",
      "        [-0.7445, -0.0342,  0.6668],\n",
      "        [-0.5103, -0.6147, -0.6014]])\n",
      "est R : tensor([[ 0.4268, -0.7448, -0.5032],\n",
      "        [-0.7937, -0.0391, -0.6142],\n",
      "        [ 0.4421,  0.6681, -0.6068]], grad_fn=<MmBackward>)\n",
      "est T : tensor([[4.1605e-07],\n",
      "        [2.1737e-06],\n",
      "        [7.6920e-08]], grad_fn=<MmBackward>)\n"
     ]
    }
   ],
   "source": [
    "est_tf = realive_transform.get_tf()\n",
    "\n",
    "print('true R:', torch.Tensor(rot_true.squeeze()))\n",
    "print('est R :', est_tf['R'])\n",
    "print('est T :', est_tf['t'])"
   ]
  },
  {
   "cell_type": "code",
   "execution_count": null,
   "id": "e759c76e-72c5-45c0-9243-b355d9a850e0",
   "metadata": {},
   "outputs": [],
   "source": [
    "bunny_tf_est = o3d.geometry.PointCloud()\n",
    "# pts_est = pts_est.detach().cpu().numpy()\n",
    "bunny_tf_est.points = o3d.utility.Vector3dVector(pts_est)\n",
    "o3d.visualization.draw_geometries([bunny_orig, bunny_tf_est])\n",
    "# o3d.visualization.draw_geometries([bunny, bunny_tf_est])\n"
   ]
  },
  {
   "cell_type": "code",
   "execution_count": 81,
   "id": "8e52f1cf-702f-4d19-ab1d-7ce3df454ee3",
   "metadata": {},
   "outputs": [],
   "source": [
    "# comp \n",
    "bunny_pts_o3d = o3d.geometry.PointCloud()\n",
    "bunny_pts_o3d.points = o3d.utility.Vector3dVector(pts)\n",
    "\n",
    "o3d.visualization.draw_geometries([bunny_orig, bunny_pts_o3d])\n"
   ]
  },
  {
   "cell_type": "code",
   "execution_count": 80,
   "id": "6cb9c08e-c0df-4172-83c5-4cf95e195817",
   "metadata": {},
   "outputs": [
    {
     "name": "stdout",
     "output_type": "stream",
     "text": [
      "[-0.04314373 -0.0835286  -0.02946293]\n",
      "[-0.02669133  0.0944444   0.00861972]\n"
     ]
    }
   ],
   "source": [
    "pts_bunny_orig = np.asarray(bunny_orig.points)\n",
    "\n",
    "print(pts_est.mean(axis=0))\n",
    "print(pts_bunny_orig.mean(axis=0))\n"
   ]
  },
  {
   "cell_type": "code",
   "execution_count": null,
   "id": "025435e4-05cf-4af2-aa36-1b36a7069cfe",
   "metadata": {},
   "outputs": [],
   "source": []
  },
  {
   "cell_type": "code",
   "execution_count": null,
   "id": "0a0f31dd-7405-491f-bb01-7b2605322c7b",
   "metadata": {},
   "outputs": [],
   "source": []
  },
  {
   "cell_type": "code",
   "execution_count": 185,
   "id": "dc15fdca-f4cf-455a-a5b6-1273d75860c4",
   "metadata": {
    "tags": []
   },
   "outputs": [
    {
     "name": "stdout",
     "output_type": "stream",
     "text": [
      "current parameters - a: [0.44331557] b: [0.345042]\n",
      "loss:  15.111131\n",
      "loss:  12.053776\n",
      "loss:  12.053783\n",
      "loss:  12.053781\n",
      "loss:  12.053781\n",
      "loss:  12.053776\n",
      "optimized parameters - a: [1.8002579] b: [-29.178463]\n",
      "true parameters      - a: 1.8 b: -30\n"
     ]
    },
    {
     "data": {
      "text/plain": [
       "Text(0, 0.5, 'Huber loss')"
      ]
     },
     "execution_count": 185,
     "metadata": {},
     "output_type": "execute_result"
    },
    {
     "data": {
      "image/png": "[encoded data removed]",
      "text/plain": [
       "<Figure size 432x288 with 1 Axes>"
      ]
     },
     "metadata": {
      "needs_background": "light"
     },
     "output_type": "display_data"
    },
    {
     "data": {
      "image/png": "[encoded data removed]",
      "text/plain": [
       "<Figure size 432x288 with 1 Axes>"
      ]
     },
     "metadata": {
      "needs_background": "light"
     },
     "output_type": "display_data"
    }
   ],
   "source": [
    "\"\"\"\n",
    "    loss 2: the robust huber loss   \n",
    "\"\"\"\n",
    "# re-init model \n",
    "line2d = Line2D() \n",
    "print('current parameters - a:', line2d.a.data.numpy(), 'b:', line2d.b.data.numpy())\n",
    "\n",
    "# optimizer \n",
    "optimizer = optim.Adam(line2d.parameters(), lr=0.01)\n",
    "scheduler = optim.lr_scheduler.StepLR(optimizer, step_size=10000, gamma=0.8)\n",
    "\n",
    "# run optimization \n",
    "huberloss_history = []\n",
    "for i in range(30000):\n",
    "    optimizer.zero_grad()\n",
    "    pred_y = line2d(data_x)\n",
    "    loss = nn.HuberLoss(delta=0.1)(pred_y, data_y)\n",
    "    loss.backward()\n",
    "    optimizer.step()\n",
    "    scheduler.step()\n",
    "    \n",
    "    huberloss_history.append(loss.detach().numpy())\n",
    "    if i % 5000 == 0:\n",
    "        loss, current = loss.item(), i * len(data_x)\n",
    "        print(f\"loss: {loss:>10f}\")\n",
    "        \n",
    "\n",
    "\"\"\"\n",
    "    draw the result \n",
    "\"\"\"\n",
    "print('optimized parameters - a:', line2d.a.data.numpy(), 'b:', line2d.b.data.numpy())\n",
    "print('true parameters      - a:', true_a, 'b:', true_b)\n",
    "\n",
    "# draw the optimized prediction after the optimization \n",
    "pred_y_after_opt = line2d(data_x).detach().numpy()\n",
    "\n",
    "fig = plt.figure(2)\n",
    "ax = fig.add_subplot(111)\n",
    "plt.scatter(data_x, data_y, color='black', s=10, label='truth (y=0.5x)')\n",
    "plt.plot(data_x, pred_y_after_opt, color='r', linewidth=2, label='pred (optimized)')\n",
    "title('non-robust optimization result')\n",
    "xlabel('x-axis')\n",
    "ylabel('y-axis')\n",
    "legend(loc='lower right')\n",
    "# ax.set_aspect('equal', adjustable='box')\n",
    "\n",
    "fig = plt.figure(3)\n",
    "ax = fig.add_subplot(111)\n",
    "plt.plot(huberloss_history)\n",
    "xlabel('# iterations')\n",
    "ylabel('Huber loss')"
   ]
  },
  {
   "cell_type": "code",
   "execution_count": null,
   "id": "8dd15b24-d5eb-46fc-8c28-21fc3b29b790",
   "metadata": {},
   "outputs": [],
   "source": []
  },
  {
   "cell_type": "code",
   "execution_count": null,
   "id": "5cae173f-3a15-4009-9523-3eabafffa518",
   "metadata": {},
   "outputs": [],
   "source": []
  },
  {
   "cell_type": "code",
   "execution_count": null,
   "id": "2407d7b6-5bf5-4fab-bd96-37ab011232ba",
   "metadata": {},
   "outputs": [],
   "source": []
  }
 ],
 "metadata": {
  "kernelspec": {
   "display_name": "Python 3 (ipykernel)",
   "language": "python",
   "name": "python3"
  },
  "language_info": {
   "codemirror_mode": {
    "name": "ipython",
    "version": 3
   },
   "file_extension": ".py",
   "mimetype": "text/x-python",
   "name": "python",
   "nbconvert_exporter": "python",
   "pygments_lexer": "ipython3",
   "version": "3.8.11"
  }
 },
 "nbformat": 4,
 "nbformat_minor": 5
}
